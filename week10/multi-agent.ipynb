{
 "cells": [
  {
   "metadata": {},
   "cell_type": "markdown",
   "source": [
    "# 多 Agent 协作自动修复 K8s 故障\n",
    "1. 管理员 Agent\n",
    "2. 自动修复 Agent\n",
    "3. 寻求人类帮助 Agent \n",
    "4. 网络搜索 Agent\n",
    "5. 执行代码 Agent\n",
    "6. GetK8sYAML Agent"
   ],
   "id": "53529607b94bba4d"
  },
  {
   "metadata": {
    "ExecuteTime": {
     "end_time": "2024-11-07T06:22:33.202328Z",
     "start_time": "2024-11-07T06:22:30.254546Z"
    }
   },
   "cell_type": "code",
   "source": [
    "! capture --no-stderr\n",
    "! pip3 install -U langgraph langchain langchain_openai langchain_experimental langsmith pandas kubernetes openai"
   ],
   "id": "76c4f639a5704a56",
   "outputs": [
    {
     "name": "stdout",
     "output_type": "stream",
     "text": [
      "zsh:1: command not found: capture\r\n",
      "Requirement already satisfied: langgraph in ./venv/lib/python3.13/site-packages (0.2.45)\r\n",
      "Requirement already satisfied: langchain in ./venv/lib/python3.13/site-packages (0.3.7)\r\n",
      "Requirement already satisfied: langchain_openai in ./venv/lib/python3.13/site-packages (0.2.6)\r\n",
      "Requirement already satisfied: langchain_experimental in ./venv/lib/python3.13/site-packages (0.3.3)\r\n",
      "Requirement already satisfied: langsmith in ./venv/lib/python3.13/site-packages (0.1.140)\r\n",
      "Requirement already satisfied: pandas in ./venv/lib/python3.13/site-packages (2.2.3)\r\n",
      "Requirement already satisfied: kubernetes in ./venv/lib/python3.13/site-packages (31.0.0)\r\n",
      "Requirement already satisfied: openai in ./venv/lib/python3.13/site-packages (1.54.3)\r\n",
      "Requirement already satisfied: langchain-core!=0.3.0,!=0.3.1,!=0.3.10,!=0.3.11,!=0.3.12,!=0.3.13,!=0.3.14,!=0.3.2,!=0.3.3,!=0.3.4,!=0.3.5,!=0.3.6,!=0.3.7,!=0.3.8,!=0.3.9,<0.4.0,>=0.2.43 in ./venv/lib/python3.13/site-packages (from langgraph) (0.3.15)\r\n",
      "Requirement already satisfied: langgraph-checkpoint<3.0.0,>=2.0.0 in ./venv/lib/python3.13/site-packages (from langgraph) (2.0.2)\r\n",
      "Requirement already satisfied: langgraph-sdk<0.2.0,>=0.1.32 in ./venv/lib/python3.13/site-packages (from langgraph) (0.1.35)\r\n",
      "Requirement already satisfied: PyYAML>=5.3 in ./venv/lib/python3.13/site-packages (from langchain) (6.0.2)\r\n",
      "Requirement already satisfied: SQLAlchemy<3,>=1.4 in ./venv/lib/python3.13/site-packages (from langchain) (2.0.35)\r\n",
      "Requirement already satisfied: aiohttp<4.0.0,>=3.8.3 in ./venv/lib/python3.13/site-packages (from langchain) (3.10.10)\r\n",
      "Requirement already satisfied: langchain-text-splitters<0.4.0,>=0.3.0 in ./venv/lib/python3.13/site-packages (from langchain) (0.3.2)\r\n",
      "Requirement already satisfied: numpy<2.0.0,>=1.26.0 in ./venv/lib/python3.13/site-packages (from langchain) (1.26.4)\r\n",
      "Requirement already satisfied: pydantic<3.0.0,>=2.7.4 in ./venv/lib/python3.13/site-packages (from langchain) (2.9.2)\r\n",
      "Requirement already satisfied: requests<3,>=2 in ./venv/lib/python3.13/site-packages (from langchain) (2.32.3)\r\n",
      "Requirement already satisfied: tenacity!=8.4.0,<10,>=8.1.0 in ./venv/lib/python3.13/site-packages (from langchain) (9.0.0)\r\n",
      "Requirement already satisfied: tiktoken<1,>=0.7 in ./venv/lib/python3.13/site-packages (from langchain_openai) (0.8.0)\r\n",
      "Requirement already satisfied: langchain-community<0.4.0,>=0.3.0 in ./venv/lib/python3.13/site-packages (from langchain_experimental) (0.3.5)\r\n",
      "Requirement already satisfied: httpx<1,>=0.23.0 in ./venv/lib/python3.13/site-packages (from langsmith) (0.27.2)\r\n",
      "Requirement already satisfied: orjson<4.0.0,>=3.9.14 in ./venv/lib/python3.13/site-packages (from langsmith) (3.10.11)\r\n",
      "Requirement already satisfied: requests-toolbelt<2.0.0,>=1.0.0 in ./venv/lib/python3.13/site-packages (from langsmith) (1.0.0)\r\n",
      "Requirement already satisfied: python-dateutil>=2.8.2 in ./venv/lib/python3.13/site-packages (from pandas) (2.9.0.post0)\r\n",
      "Requirement already satisfied: pytz>=2020.1 in ./venv/lib/python3.13/site-packages (from pandas) (2024.2)\r\n",
      "Requirement already satisfied: tzdata>=2022.7 in ./venv/lib/python3.13/site-packages (from pandas) (2024.2)\r\n",
      "Requirement already satisfied: certifi>=14.05.14 in ./venv/lib/python3.13/site-packages (from kubernetes) (2024.8.30)\r\n",
      "Requirement already satisfied: six>=1.9.0 in ./venv/lib/python3.13/site-packages (from kubernetes) (1.16.0)\r\n",
      "Requirement already satisfied: google-auth>=1.0.1 in ./venv/lib/python3.13/site-packages (from kubernetes) (2.35.0)\r\n",
      "Requirement already satisfied: websocket-client!=0.40.0,!=0.41.*,!=0.42.*,>=0.32.0 in ./venv/lib/python3.13/site-packages (from kubernetes) (1.8.0)\r\n",
      "Requirement already satisfied: requests-oauthlib in ./venv/lib/python3.13/site-packages (from kubernetes) (2.0.0)\r\n",
      "Requirement already satisfied: oauthlib>=3.2.2 in ./venv/lib/python3.13/site-packages (from kubernetes) (3.2.2)\r\n",
      "Requirement already satisfied: urllib3>=1.24.2 in ./venv/lib/python3.13/site-packages (from kubernetes) (2.2.3)\r\n",
      "Requirement already satisfied: durationpy>=0.7 in ./venv/lib/python3.13/site-packages (from kubernetes) (0.9)\r\n",
      "Requirement already satisfied: anyio<5,>=3.5.0 in ./venv/lib/python3.13/site-packages (from openai) (4.6.2.post1)\r\n",
      "Requirement already satisfied: distro<2,>=1.7.0 in ./venv/lib/python3.13/site-packages (from openai) (1.9.0)\r\n",
      "Requirement already satisfied: jiter<1,>=0.4.0 in ./venv/lib/python3.13/site-packages (from openai) (0.7.0)\r\n",
      "Requirement already satisfied: sniffio in ./venv/lib/python3.13/site-packages (from openai) (1.3.1)\r\n",
      "Requirement already satisfied: tqdm>4 in ./venv/lib/python3.13/site-packages (from openai) (4.66.6)\r\n",
      "Requirement already satisfied: typing-extensions<5,>=4.11 in ./venv/lib/python3.13/site-packages (from openai) (4.12.2)\r\n",
      "Requirement already satisfied: aiohappyeyeballs>=2.3.0 in ./venv/lib/python3.13/site-packages (from aiohttp<4.0.0,>=3.8.3->langchain) (2.4.3)\r\n",
      "Requirement already satisfied: aiosignal>=1.1.2 in ./venv/lib/python3.13/site-packages (from aiohttp<4.0.0,>=3.8.3->langchain) (1.3.1)\r\n",
      "Requirement already satisfied: attrs>=17.3.0 in ./venv/lib/python3.13/site-packages (from aiohttp<4.0.0,>=3.8.3->langchain) (24.2.0)\r\n",
      "Requirement already satisfied: frozenlist>=1.1.1 in ./venv/lib/python3.13/site-packages (from aiohttp<4.0.0,>=3.8.3->langchain) (1.5.0)\r\n",
      "Requirement already satisfied: multidict<7.0,>=4.5 in ./venv/lib/python3.13/site-packages (from aiohttp<4.0.0,>=3.8.3->langchain) (6.1.0)\r\n",
      "Requirement already satisfied: yarl<2.0,>=1.12.0 in ./venv/lib/python3.13/site-packages (from aiohttp<4.0.0,>=3.8.3->langchain) (1.17.1)\r\n",
      "Requirement already satisfied: idna>=2.8 in ./venv/lib/python3.13/site-packages (from anyio<5,>=3.5.0->openai) (3.10)\r\n",
      "Requirement already satisfied: cachetools<6.0,>=2.0.0 in ./venv/lib/python3.13/site-packages (from google-auth>=1.0.1->kubernetes) (5.5.0)\r\n",
      "Requirement already satisfied: pyasn1-modules>=0.2.1 in ./venv/lib/python3.13/site-packages (from google-auth>=1.0.1->kubernetes) (0.4.1)\r\n",
      "Requirement already satisfied: rsa<5,>=3.1.4 in ./venv/lib/python3.13/site-packages (from google-auth>=1.0.1->kubernetes) (4.9)\r\n",
      "Requirement already satisfied: httpcore==1.* in ./venv/lib/python3.13/site-packages (from httpx<1,>=0.23.0->langsmith) (1.0.6)\r\n",
      "Requirement already satisfied: h11<0.15,>=0.13 in ./venv/lib/python3.13/site-packages (from httpcore==1.*->httpx<1,>=0.23.0->langsmith) (0.14.0)\r\n",
      "Requirement already satisfied: dataclasses-json<0.7,>=0.5.7 in ./venv/lib/python3.13/site-packages (from langchain-community<0.4.0,>=0.3.0->langchain_experimental) (0.6.7)\r\n",
      "Requirement already satisfied: httpx-sse<0.5.0,>=0.4.0 in ./venv/lib/python3.13/site-packages (from langchain-community<0.4.0,>=0.3.0->langchain_experimental) (0.4.0)\r\n",
      "Requirement already satisfied: pydantic-settings<3.0.0,>=2.4.0 in ./venv/lib/python3.13/site-packages (from langchain-community<0.4.0,>=0.3.0->langchain_experimental) (2.6.1)\r\n",
      "Requirement already satisfied: jsonpatch<2.0,>=1.33 in ./venv/lib/python3.13/site-packages (from langchain-core!=0.3.0,!=0.3.1,!=0.3.10,!=0.3.11,!=0.3.12,!=0.3.13,!=0.3.14,!=0.3.2,!=0.3.3,!=0.3.4,!=0.3.5,!=0.3.6,!=0.3.7,!=0.3.8,!=0.3.9,<0.4.0,>=0.2.43->langgraph) (1.33)\r\n",
      "Requirement already satisfied: packaging<25,>=23.2 in ./venv/lib/python3.13/site-packages (from langchain-core!=0.3.0,!=0.3.1,!=0.3.10,!=0.3.11,!=0.3.12,!=0.3.13,!=0.3.14,!=0.3.2,!=0.3.3,!=0.3.4,!=0.3.5,!=0.3.6,!=0.3.7,!=0.3.8,!=0.3.9,<0.4.0,>=0.2.43->langgraph) (24.1)\r\n",
      "Requirement already satisfied: msgpack<2.0.0,>=1.1.0 in ./venv/lib/python3.13/site-packages (from langgraph-checkpoint<3.0.0,>=2.0.0->langgraph) (1.1.0)\r\n",
      "Requirement already satisfied: annotated-types>=0.6.0 in ./venv/lib/python3.13/site-packages (from pydantic<3.0.0,>=2.7.4->langchain) (0.7.0)\r\n",
      "Requirement already satisfied: pydantic-core==2.23.4 in ./venv/lib/python3.13/site-packages (from pydantic<3.0.0,>=2.7.4->langchain) (2.23.4)\r\n",
      "Requirement already satisfied: charset-normalizer<4,>=2 in ./venv/lib/python3.13/site-packages (from requests<3,>=2->langchain) (3.4.0)\r\n",
      "Requirement already satisfied: regex>=2022.1.18 in ./venv/lib/python3.13/site-packages (from tiktoken<1,>=0.7->langchain_openai) (2024.9.11)\r\n",
      "Requirement already satisfied: marshmallow<4.0.0,>=3.18.0 in ./venv/lib/python3.13/site-packages (from dataclasses-json<0.7,>=0.5.7->langchain-community<0.4.0,>=0.3.0->langchain_experimental) (3.23.1)\r\n",
      "Requirement already satisfied: typing-inspect<1,>=0.4.0 in ./venv/lib/python3.13/site-packages (from dataclasses-json<0.7,>=0.5.7->langchain-community<0.4.0,>=0.3.0->langchain_experimental) (0.9.0)\r\n",
      "Requirement already satisfied: jsonpointer>=1.9 in ./venv/lib/python3.13/site-packages (from jsonpatch<2.0,>=1.33->langchain-core!=0.3.0,!=0.3.1,!=0.3.10,!=0.3.11,!=0.3.12,!=0.3.13,!=0.3.14,!=0.3.2,!=0.3.3,!=0.3.4,!=0.3.5,!=0.3.6,!=0.3.7,!=0.3.8,!=0.3.9,<0.4.0,>=0.2.43->langgraph) (3.0.0)\r\n",
      "Requirement already satisfied: pyasn1<0.7.0,>=0.4.6 in ./venv/lib/python3.13/site-packages (from pyasn1-modules>=0.2.1->google-auth>=1.0.1->kubernetes) (0.6.1)\r\n",
      "Requirement already satisfied: python-dotenv>=0.21.0 in ./venv/lib/python3.13/site-packages (from pydantic-settings<3.0.0,>=2.4.0->langchain-community<0.4.0,>=0.3.0->langchain_experimental) (1.0.1)\r\n",
      "Requirement already satisfied: propcache>=0.2.0 in ./venv/lib/python3.13/site-packages (from yarl<2.0,>=1.12.0->aiohttp<4.0.0,>=3.8.3->langchain) (0.2.0)\r\n",
      "Requirement already satisfied: mypy-extensions>=0.3.0 in ./venv/lib/python3.13/site-packages (from typing-inspect<1,>=0.4.0->dataclasses-json<0.7,>=0.5.7->langchain-community<0.4.0,>=0.3.0->langchain_experimental) (1.0.0)\r\n"
     ]
    }
   ],
   "execution_count": 30
  },
  {
   "metadata": {
    "ExecuteTime": {
     "end_time": "2024-11-07T06:22:33.265888Z",
     "start_time": "2024-11-07T06:22:33.263267Z"
    }
   },
   "cell_type": "code",
   "source": [
    "import getpass\n",
    "import os\n",
    "\n",
    "def _set_if_undefined(var: str):\n",
    "    if not os.environ.get(var):\n",
    "        os.environ[var] = getpass.getpass(f\"Please provide you {var}: \")\n",
    "        \n",
    "_set_if_undefined(\"OPENAI_API_KEY\")\n",
    "_set_if_undefined(\"TAVILY_API_KEY\")\n",
    "\n",
    "import time\n",
    "from typing import Annotated\n",
    "from langchain_community.tools.tavily_search import TavilySearchResults\n",
    "from langchain_experimental.tools import PythonAstREPLTool\n",
    "\n",
    "tavily_tool = TavilySearchResults(max_results=5)\n",
    "\n",
    "python_repl_tool = PythonAstREPLTool()\n",
    "\n",
    "# 定义消息 Agent 结点\n",
    "from langchain_core.messages import HumanMessage\n",
    "\n",
    "def agent_node(state, agent, name):\n",
    "    result = agent.invoke(state)\n",
    "    return  {\n",
    "        \"messages\": [HumanMessage(content=result[\"messages\"][-1].content, name=name)],\n",
    "    }"
   ],
   "id": "59c50f6aed2b158d",
   "outputs": [],
   "execution_count": 31
  },
  {
   "metadata": {
    "ExecuteTime": {
     "end_time": "2024-11-07T06:22:33.355185Z",
     "start_time": "2024-11-07T06:22:33.341013Z"
    }
   },
   "cell_type": "code",
   "source": [
    "from typing import Sequence\n",
    "# 定义 supervisor Agent 和调度逻辑\n",
    "# 管理员 Agent，负责决定下一个由哪个 Agent 来执行任务\n",
    "\n",
    "from langchain_core.prompts import ChatPromptTemplate, MessagesPlaceholder\n",
    "from langchain_openai import ChatOpenAI\n",
    "from pydantic import BaseModel\n",
    "from typing import Literal\n",
    "import operator\n",
    "from  typing_extensions import TypedDict\n",
    "\n",
    "from  langchain_core.messages import BaseMessage\n",
    "\n",
    "# 定义成员 Agent 和系统提示语，告诉 supervisor 要负责调度多个 Agent\n",
    "members = [\"Researcher\", \"Coder\", \"HumanHelp\", \"GetK8sYAML\"]\n",
    "system_prompt = (\n",
    "    f\"\"\"You are a supervisor tasked with managing a conversation between the following workers: {members}. Given the following user request, respond with the worker to act next. Each worker will perform a task and respond with their results and status. When finished, respond with FINISH.\"\"\"\n",
    ")\n",
    "options = [\"FINISH\"] + members\n",
    "\n",
    "# 定义 supervisor 的响应类，选择下一个执行的 Agent\n",
    "class routeResponse(BaseModel):\n",
    "    next: Literal[*options]\n",
    "    \n",
    "prompt = ChatPromptTemplate.from_messages(\n",
    "    [\n",
    "        (\"system\", system_prompt),\n",
    "        MessagesPlaceholder(variable_name=\"messages\"),\n",
    "        (\n",
    "            \"system\",\n",
    "            f\"\"\"Given the conversation above, who should act next? Or should we FINISH Select one of: {options}\"\"\"\n",
    "        )\n",
    "    ]\n",
    ").partial(options=str(options), members=\", \".join(members))\n",
    "\n",
    "class AgentState(TypedDict):\n",
    "    messages: Annotated[Sequence[BaseMessage], operator.add]\n",
    "    next: str\n",
    "\n",
    "llm = ChatOpenAI(model=\"gtp-4o\", base_url=\"https://vip.apiyi.com/v1\")\n",
    "\n",
    "def supervisor_agent(state):\n",
    "    supervisor_chain = prompt | llm.with_structured_output(routeResponse)\n",
    "    return supervisor_chain.invoke(state)"
   ],
   "id": "3f5c6f3db15eab98",
   "outputs": [],
   "execution_count": 32
  },
  {
   "metadata": {
    "ExecuteTime": {
     "end_time": "2024-11-07T06:22:33.716401Z",
     "start_time": "2024-11-07T06:22:33.422539Z"
    }
   },
   "cell_type": "code",
   "source": [
    "from kubernetes import client, config, watch\n",
    "\n",
    "config.load_kube_config()\n",
    "k8s_apps_v1 = client.AppsV1Api()"
   ],
   "id": "b2899c510d40216d",
   "outputs": [],
   "execution_count": 33
  },
  {
   "metadata": {
    "ExecuteTime": {
     "end_time": "2024-11-07T06:22:33.771014Z",
     "start_time": "2024-11-07T06:22:33.766787Z"
    }
   },
   "cell_type": "code",
   "source": [
    "# 定义 K8s get yaml 工具\n",
    "from langchain_core.tools import tool\n",
    "import yaml\n",
    "\n",
    "@tool\n",
    "def get_k8s_yaml(deployment_name, namespace):\n",
    "    \"\"\"获取 K8s 部署的 YAML\"\"\"\n",
    "    deployment = k8s_apps_v1.read_namespaced_deployment(name=deployment_name, namespace=namespace)\n",
    "    deployment_dict = deployment.to_dict()\n",
    "    deployment_dict.pop(\"status\", None)\n",
    "    if \"metadata\" in deployment_dict:\n",
    "        deployment_dict[\"metadata\"].pop(\"managed_fields\", None)\n",
    "    return yaml.dump(deployment_dict)"
   ],
   "id": "a96a996200c56555",
   "outputs": [],
   "execution_count": 34
  },
  {
   "metadata": {
    "ExecuteTime": {
     "end_time": "2024-11-07T06:22:33.849722Z",
     "start_time": "2024-11-07T06:22:33.845333Z"
    }
   },
   "cell_type": "code",
   "source": [
    "# 定义 K8s 自动修复工具\n",
    "from langchain_core.tools import tool\n",
    "from openai import OpenAI\n",
    "\n",
    "@tool\n",
    "def auto_fix_k8s(deployment_name, namespace, deployment_yaml, event: str):\n",
    "    \"\"\"自动修复 K8s 部署\"\"\"\n",
    "    # 如果为空返回错误\n",
    "    if not deployment_yaml:\n",
    "        return \"Deployment not found\"\n",
    "    openAIClient = OpenAI(base_url=\"https://vip.apiyi.com/v1\")\n",
    "    response = openAIClient.chat.completions.create(\n",
    "        model=\"gpt-4o\",\n",
    "        response_format={\"type\":\"json_object\"},\n",
    "        message = [\n",
    "            {\n",
    "                \"role\": \"system\",\n",
    "                \"content\": \"你是一个助理用来输出 JSON\"\n",
    "            },\n",
    "            {\n",
    "                \"role\": \"user\",\n",
    "                \"content\": f\"\"\"你现在是一个云原生技术专家，现在你需要根据 K8s 的报错生成一个能通过 kubectl patch 的一段 JSON 内容来修复问题。\n",
    "            K8s 抛出的错误信息是: {event}\n",
    "            工作负载的 YAML 是: \n",
    "            {deployment_yaml}\n",
    "            你生成的 patch JSON 应该可以直接通过 kubectl patch 命令使用，除此之外不要提供其他无用的建议，直接返回 JSON，且不要把 JSON 放在代码块内\n",
    "            \"\"\"\n",
    "            }\n",
    "        ]\n",
    "    )\n",
    "\n",
    "    json_opt = response.choices[0].message.content\n",
    "    print(json_opt)\n",
    "\n",
    "    # Apply Patch JSON\n",
    "    try:\n",
    "        k8s_apps_v1.patch_namespaced_deployment(\n",
    "            name=deployment_name,\n",
    "            namespace=namespace,\n",
    "            body=yaml.safe_load(json_opt)\n",
    "        )\n",
    "    except Exception as e:\n",
    "        print(f\"Failed to apply patch: {str(e)}\")\n",
    "        return f\"Failed to apply patch: {str(e)}\"\n",
    "    return f\"Successfully fix the deployment\""
   ],
   "id": "db74d59217cdc69",
   "outputs": [],
   "execution_count": 35
  },
  {
   "metadata": {
    "ExecuteTime": {
     "end_time": "2024-11-07T06:22:33.928853Z",
     "start_time": "2024-11-07T06:22:33.925546Z"
    }
   },
   "cell_type": "code",
   "source": [
    "import requests\n",
    "import json\n",
    "\n",
    "@tool\n",
    "def human_help(event_message: str):\n",
    "    \"\"\"无法修复问题时寻求人工帮助\"\"\"\n",
    "    url = \"https://open.feishu.cn/open-apis/bot/v2/hook/7b7b7b7b-7b7b-7b7b-7b7b-7b7b7b7b7b7b\"\n",
    "    headers = { \"Content-Type\": \"application/json\" }\n",
    "    data = {\n",
    "        \"msg_type\": \"text\",\n",
    "        \"content\": {\n",
    "            \"text\": event_message\n",
    "        }\n",
    "    }\n",
    "    response = requests.post(url, headers=headers, data=json.dumps(data))\n",
    "    return \"Success sent message to human help, FINISH\""
   ],
   "id": "6f3e928fb824c08f",
   "outputs": [],
   "execution_count": 36
  },
  {
   "metadata": {
    "ExecuteTime": {
     "end_time": "2024-11-07T06:22:34.247368Z",
     "start_time": "2024-11-07T06:22:34.010251Z"
    }
   },
   "cell_type": "code",
   "source": [
    "# 定义工作流和 Graph（有向有环图）\n",
    "from langgraph.graph import START, END, StateGraph\n",
    "from langgraph.prebuilt import create_react_agent\n",
    "import functools\n",
    "\n",
    "# 创建 research Agent\n",
    "research_agent = create_react_agent(llm, tools=[tavily_tool])\n",
    "research_node = functools.partial(agent_node, agent=research_agent, name=\"Researcher\")\n",
    "\n",
    "# code agent\n",
    "code_agent = create_react_agent(llm, tools=[python_repl_tool])\n",
    "code_node = functools.partial(agent_node, agent=code_agent, name=\"Coder\")\n",
    "\n",
    "# auto fix agent\n",
    "auto_fix_agent = create_react_agent(llm, tools=[auto_fix_k8s])\n",
    "auto_fix_node = functools.partial(agent_node, agent=auto_fix_agent, name=\"AutoFixK8s\")\n",
    "\n",
    "# human help agent\n",
    "human_help_agent = create_react_agent(llm, tools=[human_help])\n",
    "human_help_node = functools.partial(agent_node, agent=human_help_agent, name=\"HumanHelp\")\n",
    "\n",
    "# get k8s yaml agent\n",
    "get_k8s_yaml_agent = create_react_agent(llm, tools=[get_k8s_yaml])\n",
    "get_k8s_yaml_node = functools.partial(agent_node, agent=get_k8s_yaml_agent, name=\"GetK8sYAML\")\n",
    "\n",
    "# 创建 Graph 并添加结点\n",
    "workflow = StateGraph(AgentState)\n",
    "workflow.add_node(\"Researcher\", research_node)\n",
    "workflow.add_node(\"Coder\", code_node)\n",
    "workflow.add_node(\"AutoFixK8s\", auto_fix_node)\n",
    "workflow.add_node(\"HumanHelp\", human_help_node)\n",
    "workflow.add_node(\"GetK8sYAML\", get_k8s_yaml_node)\n",
    "workflow.add_node(\"supervisor\", supervisor_agent)\n",
    "\n",
    "for member in members:\n",
    "    workflow.add_edge(members, \"supervisor\")\n",
    "    \n",
    "workflow.add_conditional_edges(\"GetK8sYAML\", lambda x: x[\"next\"] == \"AutoFixK8s\", {\"AutoFixK8s\": \"AutoFixK8s\"})\n",
    "workflow.add_edge(\"AutoFixK8s\", \"supervisor\")\n",
    "\n",
    "conditional_map = {k:k for k in members}\n",
    "conditional_map[\"FINISH\"] = END\n",
    "workflow.add_conditional_edges(\"supervisor\", lambda x: x[\"next\"], conditional_map)\n",
    "\n",
    "workflow.add_edge(START, \"supervisor\")\n",
    "\n",
    "# 编译 Graph\n",
    "graph = workflow.compile()\n",
    "\n",
    "# 展示 Graph\n",
    "from IPython.display import display, Image\n",
    "try:\n",
    "    display(Image(graph.get_graph().draw_mermaid_png()))\n",
    "except Exception as e:\n",
    "    pass"
   ],
   "id": "a84e9cd98cdcf7ce",
   "outputs": [
    {
     "data": {
      "image/jpeg": "[encoded data removed]",
      "text/plain": [
       "<IPython.core.display.Image object>"
      ]
     },
     "metadata": {},
     "output_type": "display_data"
    }
   ],
   "execution_count": 37
  },
  {
   "metadata": {
    "ExecuteTime": {
     "end_time": "2024-11-07T06:24:32.497979Z",
     "start_time": "2024-11-07T06:24:24.692359Z"
    }
   },
   "cell_type": "code",
   "source": [
    "# 捕获和处理 K8s 事件\n",
    "from kubernetes import client\n",
    "\n",
    "core_v1 = client.CoreV1Api()\n",
    "w = watch.Watch()\n",
    "\n",
    "def run_stream(message: str):\n",
    "    for s in graph.stream(\n",
    "            {\n",
    "                \"messages\": [HumanMessage(content=message)],\n",
    "            }\n",
    "    ):\n",
    "        if \"__end__\" not in s:\n",
    "            print(s)\n",
    "            print(\"----\")\n",
    "    \n",
    "try:\n",
    "    for event in w.stream(core_v1.list_namespaced_event, namespace=\"default\", _request_timeout=None):\n",
    "        event_type = event[\"type\"]\n",
    "        event_object = event[\"object\"]\n",
    "        if event_object.type == \"Warning\":\n",
    "            involved_object = event_object.involved_object\n",
    "            pod_name = involved_object.name\n",
    "            reason = event_object.reason\n",
    "            message = event_object.message\n",
    "            \n",
    "            print(f\"Warning Event: {event_type} {pod_name} {reason} {message}\")\n",
    "            \n",
    "            try:\n",
    "                pod = core_v1.read_namespaced_pod(name=pod_name, namespace=\"default\")\n",
    "                deployment_name = pod.metadata.labels.get(\"app\", \"unknown\")\n",
    "            except client.exceptions.ApiException as e:\n",
    "                print(f\"Failed to get pod: {str(e)}\")\n",
    "                continue\n",
    "                \n",
    "            try:\n",
    "                run_stream(f\"deployment: {deployment_name}, namespace: default, event: {reason} - {message}\")\n",
    "                time.sleep(10)\n",
    "            except Exception as e:\n",
    "                print(e)\n",
    "                continue\n",
    "        else:\n",
    "            print(f\"Ignore non-warning event: {event_object.type} {event_object.reason} - {event_object.message}\")\n",
    "            \n",
    "finally:\n",
    "    w.stop()"
   ],
   "id": "c1f802443b28368",
   "outputs": [
    {
     "name": "stdout",
     "output_type": "stream",
     "text": [
      "Ignore non-warning event: Normal Scheduled - Successfully assigned default/nginx-796f4fb6cb-lztvv to ip-192-168-1-169.us-east-2.compute.internal\n",
      "Ignore non-warning event: Normal Pulling - Pulling image \"nginx:latess\"\n",
      "Warning Event: ADDED nginx-796f4fb6cb-lztvv Failed Failed to pull image \"nginx:latess\": rpc error: code = NotFound desc = failed to pull and unpack image \"docker.io/library/nginx:latess\": failed to resolve reference \"docker.io/library/nginx:latess\": docker.io/library/nginx:latess: not found\n",
      "Error code: 503 - {'error': {'message': '当前分组 default 下对于模型 gtp-4o 计费模式 [按量计费,按次计费] 无可用渠道 (request id: 2024110714242816805679817407850)', 'type': 'shell_api_error'}}\n",
      "Warning Event: ADDED nginx-796f4fb6cb-lztvv Failed Error: ErrImagePull\n",
      "Error code: 503 - {'error': {'message': '当前分组 default 下对于模型 gtp-4o 计费模式 [按量计费,按次计费] 无可用渠道 (request id: 2024110714242999065224461725944)', 'type': 'shell_api_error'}}\n",
      "Ignore non-warning event: Normal BackOff - Back-off pulling image \"nginx:latess\"\n",
      "Warning Event: ADDED nginx-796f4fb6cb-lztvv Failed Error: ImagePullBackOff\n",
      "Error code: 503 - {'error': {'message': '当前分组 default 下对于模型 gtp-4o 计费模式 [按量计费,按次计费] 无可用渠道 (request id: 2024110714243162133853109401097)', 'type': 'shell_api_error'}}\n",
      "Ignore non-warning event: Normal SuccessfulCreate - Created pod: nginx-796f4fb6cb-lztvv\n",
      "Ignore non-warning event: Normal ScalingReplicaSet - Scaled up replica set nginx-796f4fb6cb to 1\n",
      "Ignore non-warning event: Normal ApplyClusterRoles - Applied RBAC ClusterRoles\n",
      "Ignore non-warning event: Normal BindClusterRole - Bound system ClusterRole to provider ServiceAccount(s)\n",
      "Ignore non-warning event: Normal SyncPackage - Successfully configured package revision\n",
      "Ignore non-warning event: Normal InstallPackageRevision - Successfully installed package revision\n"
     ]
    },
    {
     "ename": "KeyboardInterrupt",
     "evalue": "",
     "output_type": "error",
     "traceback": [
      "\u001B[0;31m---------------------------------------------------------------------------\u001B[0m",
      "\u001B[0;31mKeyboardInterrupt\u001B[0m                         Traceback (most recent call last)",
      "Cell \u001B[0;32mIn[39], line 18\u001B[0m\n\u001B[1;32m     15\u001B[0m             \u001B[38;5;28mprint\u001B[39m(\u001B[38;5;124m\"\u001B[39m\u001B[38;5;124m----\u001B[39m\u001B[38;5;124m\"\u001B[39m)\n\u001B[1;32m     17\u001B[0m \u001B[38;5;28;01mtry\u001B[39;00m:\n\u001B[0;32m---> 18\u001B[0m \u001B[43m    \u001B[49m\u001B[38;5;28;43;01mfor\u001B[39;49;00m\u001B[43m \u001B[49m\u001B[43mevent\u001B[49m\u001B[43m \u001B[49m\u001B[38;5;129;43;01min\u001B[39;49;00m\u001B[43m \u001B[49m\u001B[43mw\u001B[49m\u001B[38;5;241;43m.\u001B[39;49m\u001B[43mstream\u001B[49m\u001B[43m(\u001B[49m\u001B[43mcore_v1\u001B[49m\u001B[38;5;241;43m.\u001B[39;49m\u001B[43mlist_namespaced_event\u001B[49m\u001B[43m,\u001B[49m\u001B[43m \u001B[49m\u001B[43mnamespace\u001B[49m\u001B[38;5;241;43m=\u001B[39;49m\u001B[38;5;124;43m\"\u001B[39;49m\u001B[38;5;124;43mdefault\u001B[39;49m\u001B[38;5;124;43m\"\u001B[39;49m\u001B[43m,\u001B[49m\u001B[43m \u001B[49m\u001B[43m_request_timeout\u001B[49m\u001B[38;5;241;43m=\u001B[39;49m\u001B[38;5;28;43;01mNone\u001B[39;49;00m\u001B[43m)\u001B[49m\u001B[43m:\u001B[49m\n\u001B[1;32m     19\u001B[0m \u001B[43m        \u001B[49m\u001B[43mevent_type\u001B[49m\u001B[43m \u001B[49m\u001B[38;5;241;43m=\u001B[39;49m\u001B[43m \u001B[49m\u001B[43mevent\u001B[49m\u001B[43m[\u001B[49m\u001B[38;5;124;43m\"\u001B[39;49m\u001B[38;5;124;43mtype\u001B[39;49m\u001B[38;5;124;43m\"\u001B[39;49m\u001B[43m]\u001B[49m\n\u001B[1;32m     20\u001B[0m \u001B[43m        \u001B[49m\u001B[43mevent_object\u001B[49m\u001B[43m \u001B[49m\u001B[38;5;241;43m=\u001B[39;49m\u001B[43m \u001B[49m\u001B[43mevent\u001B[49m\u001B[43m[\u001B[49m\u001B[38;5;124;43m\"\u001B[39;49m\u001B[38;5;124;43mobject\u001B[39;49m\u001B[38;5;124;43m\"\u001B[39;49m\u001B[43m]\u001B[49m\n",
      "File \u001B[0;32m~/Documents/geekbang/aiops/homework/week10/venv/lib/python3.13/site-packages/kubernetes/watch/watch.py:178\u001B[0m, in \u001B[0;36mWatch.stream\u001B[0;34m(self, func, *args, **kwargs)\u001B[0m\n\u001B[1;32m    176\u001B[0m resp \u001B[38;5;241m=\u001B[39m func(\u001B[38;5;241m*\u001B[39margs, \u001B[38;5;241m*\u001B[39m\u001B[38;5;241m*\u001B[39mkwargs)\n\u001B[1;32m    177\u001B[0m \u001B[38;5;28;01mtry\u001B[39;00m:\n\u001B[0;32m--> 178\u001B[0m \u001B[43m    \u001B[49m\u001B[38;5;28;43;01mfor\u001B[39;49;00m\u001B[43m \u001B[49m\u001B[43mline\u001B[49m\u001B[43m \u001B[49m\u001B[38;5;129;43;01min\u001B[39;49;00m\u001B[43m \u001B[49m\u001B[43miter_resp_lines\u001B[49m\u001B[43m(\u001B[49m\u001B[43mresp\u001B[49m\u001B[43m)\u001B[49m\u001B[43m:\u001B[49m\n\u001B[1;32m    179\u001B[0m \u001B[43m        \u001B[49m\u001B[38;5;66;43;03m# unmarshal when we are receiving events from watch,\u001B[39;49;00m\n\u001B[1;32m    180\u001B[0m \u001B[43m        \u001B[49m\u001B[38;5;66;43;03m# return raw string when we are streaming log\u001B[39;49;00m\n\u001B[1;32m    181\u001B[0m \u001B[43m        \u001B[49m\u001B[38;5;28;43;01mif\u001B[39;49;00m\u001B[43m \u001B[49m\u001B[43mwatch_arg\u001B[49m\u001B[43m \u001B[49m\u001B[38;5;241;43m==\u001B[39;49m\u001B[43m \u001B[49m\u001B[38;5;124;43m\"\u001B[39;49m\u001B[38;5;124;43mwatch\u001B[39;49m\u001B[38;5;124;43m\"\u001B[39;49m\u001B[43m:\u001B[49m\n\u001B[1;32m    182\u001B[0m \u001B[43m            \u001B[49m\u001B[43mevent\u001B[49m\u001B[43m \u001B[49m\u001B[38;5;241;43m=\u001B[39;49m\u001B[43m \u001B[49m\u001B[38;5;28;43mself\u001B[39;49m\u001B[38;5;241;43m.\u001B[39;49m\u001B[43munmarshal_event\u001B[49m\u001B[43m(\u001B[49m\u001B[43mline\u001B[49m\u001B[43m,\u001B[49m\u001B[43m \u001B[49m\u001B[43mreturn_type\u001B[49m\u001B[43m)\u001B[49m\n",
      "File \u001B[0;32m~/Documents/geekbang/aiops/homework/week10/venv/lib/python3.13/site-packages/kubernetes/watch/watch.py:56\u001B[0m, in \u001B[0;36miter_resp_lines\u001B[0;34m(resp)\u001B[0m\n\u001B[1;32m     54\u001B[0m \u001B[38;5;28;01mdef\u001B[39;00m \u001B[38;5;21miter_resp_lines\u001B[39m(resp):\n\u001B[1;32m     55\u001B[0m     buffer \u001B[38;5;241m=\u001B[39m \u001B[38;5;28mbytearray\u001B[39m()\n\u001B[0;32m---> 56\u001B[0m \u001B[43m    \u001B[49m\u001B[38;5;28;43;01mfor\u001B[39;49;00m\u001B[43m \u001B[49m\u001B[43msegment\u001B[49m\u001B[43m \u001B[49m\u001B[38;5;129;43;01min\u001B[39;49;00m\u001B[43m \u001B[49m\u001B[43mresp\u001B[49m\u001B[38;5;241;43m.\u001B[39;49m\u001B[43mstream\u001B[49m\u001B[43m(\u001B[49m\u001B[43mamt\u001B[49m\u001B[38;5;241;43m=\u001B[39;49m\u001B[38;5;28;43;01mNone\u001B[39;49;00m\u001B[43m,\u001B[49m\u001B[43m \u001B[49m\u001B[43mdecode_content\u001B[49m\u001B[38;5;241;43m=\u001B[39;49m\u001B[38;5;28;43;01mFalse\u001B[39;49;00m\u001B[43m)\u001B[49m\u001B[43m:\u001B[49m\n\u001B[1;32m     57\u001B[0m \n\u001B[1;32m     58\u001B[0m \u001B[43m        \u001B[49m\u001B[38;5;66;43;03m# Append the segment (chunk) to the buffer\u001B[39;49;00m\n\u001B[1;32m     59\u001B[0m \u001B[43m        \u001B[49m\u001B[38;5;66;43;03m#\u001B[39;49;00m\n\u001B[1;32m     60\u001B[0m \u001B[43m        \u001B[49m\u001B[38;5;66;43;03m# Performance note: depending on contents of buffer and the type+value of segment,\u001B[39;49;00m\n\u001B[1;32m     61\u001B[0m \u001B[43m        \u001B[49m\u001B[38;5;66;43;03m# encoding segment into the buffer could be a wasteful step. The approach used here\u001B[39;49;00m\n\u001B[1;32m     62\u001B[0m \u001B[43m        \u001B[49m\u001B[38;5;66;43;03m# simplifies the logic farther down, but in the future it may be reasonable to\u001B[39;49;00m\n\u001B[1;32m     63\u001B[0m \u001B[43m        \u001B[49m\u001B[38;5;66;43;03m# sacrifice readability for performance.\u001B[39;49;00m\n\u001B[1;32m     64\u001B[0m \u001B[43m        \u001B[49m\u001B[38;5;28;43;01mif\u001B[39;49;00m\u001B[43m \u001B[49m\u001B[38;5;28;43misinstance\u001B[39;49m\u001B[43m(\u001B[49m\u001B[43msegment\u001B[49m\u001B[43m,\u001B[49m\u001B[43m \u001B[49m\u001B[38;5;28;43mbytes\u001B[39;49m\u001B[43m)\u001B[49m\u001B[43m:\u001B[49m\n\u001B[1;32m     65\u001B[0m \u001B[43m            \u001B[49m\u001B[43mbuffer\u001B[49m\u001B[38;5;241;43m.\u001B[39;49m\u001B[43mextend\u001B[49m\u001B[43m(\u001B[49m\u001B[43msegment\u001B[49m\u001B[43m)\u001B[49m\n",
      "File \u001B[0;32m~/Documents/geekbang/aiops/homework/week10/venv/lib/python3.13/site-packages/urllib3/response.py:1057\u001B[0m, in \u001B[0;36mHTTPResponse.stream\u001B[0;34m(self, amt, decode_content)\u001B[0m\n\u001B[1;32m   1041\u001B[0m \u001B[38;5;250m\u001B[39m\u001B[38;5;124;03m\"\"\"\u001B[39;00m\n\u001B[1;32m   1042\u001B[0m \u001B[38;5;124;03mA generator wrapper for the read() method. A call will block until\u001B[39;00m\n\u001B[1;32m   1043\u001B[0m \u001B[38;5;124;03m``amt`` bytes have been read from the connection or until the\u001B[39;00m\n\u001B[0;32m   (...)\u001B[0m\n\u001B[1;32m   1054\u001B[0m \u001B[38;5;124;03m    'content-encoding' header.\u001B[39;00m\n\u001B[1;32m   1055\u001B[0m \u001B[38;5;124;03m\"\"\"\u001B[39;00m\n\u001B[1;32m   1056\u001B[0m \u001B[38;5;28;01mif\u001B[39;00m \u001B[38;5;28mself\u001B[39m\u001B[38;5;241m.\u001B[39mchunked \u001B[38;5;129;01mand\u001B[39;00m \u001B[38;5;28mself\u001B[39m\u001B[38;5;241m.\u001B[39msupports_chunked_reads():\n\u001B[0;32m-> 1057\u001B[0m     \u001B[38;5;28;01myield from\u001B[39;00m \u001B[38;5;28mself\u001B[39m\u001B[38;5;241m.\u001B[39mread_chunked(amt, decode_content\u001B[38;5;241m=\u001B[39mdecode_content)\n\u001B[1;32m   1058\u001B[0m \u001B[38;5;28;01melse\u001B[39;00m:\n\u001B[1;32m   1059\u001B[0m     \u001B[38;5;28;01mwhile\u001B[39;00m \u001B[38;5;129;01mnot\u001B[39;00m is_fp_closed(\u001B[38;5;28mself\u001B[39m\u001B[38;5;241m.\u001B[39m_fp) \u001B[38;5;129;01mor\u001B[39;00m \u001B[38;5;28mlen\u001B[39m(\u001B[38;5;28mself\u001B[39m\u001B[38;5;241m.\u001B[39m_decoded_buffer) \u001B[38;5;241m>\u001B[39m \u001B[38;5;241m0\u001B[39m:\n",
      "File \u001B[0;32m~/Documents/geekbang/aiops/homework/week10/venv/lib/python3.13/site-packages/urllib3/response.py:1206\u001B[0m, in \u001B[0;36mHTTPResponse.read_chunked\u001B[0;34m(self, amt, decode_content)\u001B[0m\n\u001B[1;32m   1203\u001B[0m     amt \u001B[38;5;241m=\u001B[39m \u001B[38;5;28;01mNone\u001B[39;00m\n\u001B[1;32m   1205\u001B[0m \u001B[38;5;28;01mwhile\u001B[39;00m \u001B[38;5;28;01mTrue\u001B[39;00m:\n\u001B[0;32m-> 1206\u001B[0m     \u001B[38;5;28;43mself\u001B[39;49m\u001B[38;5;241;43m.\u001B[39;49m\u001B[43m_update_chunk_length\u001B[49m\u001B[43m(\u001B[49m\u001B[43m)\u001B[49m\n\u001B[1;32m   1207\u001B[0m     \u001B[38;5;28;01mif\u001B[39;00m \u001B[38;5;28mself\u001B[39m\u001B[38;5;241m.\u001B[39mchunk_left \u001B[38;5;241m==\u001B[39m \u001B[38;5;241m0\u001B[39m:\n\u001B[1;32m   1208\u001B[0m         \u001B[38;5;28;01mbreak\u001B[39;00m\n",
      "File \u001B[0;32m~/Documents/geekbang/aiops/homework/week10/venv/lib/python3.13/site-packages/urllib3/response.py:1125\u001B[0m, in \u001B[0;36mHTTPResponse._update_chunk_length\u001B[0;34m(self)\u001B[0m\n\u001B[1;32m   1123\u001B[0m \u001B[38;5;28;01mif\u001B[39;00m \u001B[38;5;28mself\u001B[39m\u001B[38;5;241m.\u001B[39mchunk_left \u001B[38;5;129;01mis\u001B[39;00m \u001B[38;5;129;01mnot\u001B[39;00m \u001B[38;5;28;01mNone\u001B[39;00m:\n\u001B[1;32m   1124\u001B[0m     \u001B[38;5;28;01mreturn\u001B[39;00m \u001B[38;5;28;01mNone\u001B[39;00m\n\u001B[0;32m-> 1125\u001B[0m line \u001B[38;5;241m=\u001B[39m \u001B[38;5;28;43mself\u001B[39;49m\u001B[38;5;241;43m.\u001B[39;49m\u001B[43m_fp\u001B[49m\u001B[38;5;241;43m.\u001B[39;49m\u001B[43mfp\u001B[49m\u001B[38;5;241;43m.\u001B[39;49m\u001B[43mreadline\u001B[49m\u001B[43m(\u001B[49m\u001B[43m)\u001B[49m  \u001B[38;5;66;03m# type: ignore[union-attr]\u001B[39;00m\n\u001B[1;32m   1126\u001B[0m line \u001B[38;5;241m=\u001B[39m line\u001B[38;5;241m.\u001B[39msplit(\u001B[38;5;124mb\u001B[39m\u001B[38;5;124m\"\u001B[39m\u001B[38;5;124m;\u001B[39m\u001B[38;5;124m\"\u001B[39m, \u001B[38;5;241m1\u001B[39m)[\u001B[38;5;241m0\u001B[39m]\n\u001B[1;32m   1127\u001B[0m \u001B[38;5;28;01mtry\u001B[39;00m:\n",
      "File \u001B[0;32m/opt/homebrew/Cellar/python@3.13/3.13.0_1/Frameworks/Python.framework/Versions/3.13/lib/python3.13/socket.py:719\u001B[0m, in \u001B[0;36mSocketIO.readinto\u001B[0;34m(self, b)\u001B[0m\n\u001B[1;32m    717\u001B[0m     \u001B[38;5;28;01mraise\u001B[39;00m \u001B[38;5;167;01mOSError\u001B[39;00m(\u001B[38;5;124m\"\u001B[39m\u001B[38;5;124mcannot read from timed out object\u001B[39m\u001B[38;5;124m\"\u001B[39m)\n\u001B[1;32m    718\u001B[0m \u001B[38;5;28;01mtry\u001B[39;00m:\n\u001B[0;32m--> 719\u001B[0m     \u001B[38;5;28;01mreturn\u001B[39;00m \u001B[38;5;28;43mself\u001B[39;49m\u001B[38;5;241;43m.\u001B[39;49m\u001B[43m_sock\u001B[49m\u001B[38;5;241;43m.\u001B[39;49m\u001B[43mrecv_into\u001B[49m\u001B[43m(\u001B[49m\u001B[43mb\u001B[49m\u001B[43m)\u001B[49m\n\u001B[1;32m    720\u001B[0m \u001B[38;5;28;01mexcept\u001B[39;00m timeout:\n\u001B[1;32m    721\u001B[0m     \u001B[38;5;28mself\u001B[39m\u001B[38;5;241m.\u001B[39m_timeout_occurred \u001B[38;5;241m=\u001B[39m \u001B[38;5;28;01mTrue\u001B[39;00m\n",
      "File \u001B[0;32m/opt/homebrew/Cellar/python@3.13/3.13.0_1/Frameworks/Python.framework/Versions/3.13/lib/python3.13/ssl.py:1304\u001B[0m, in \u001B[0;36mSSLSocket.recv_into\u001B[0;34m(self, buffer, nbytes, flags)\u001B[0m\n\u001B[1;32m   1300\u001B[0m     \u001B[38;5;28;01mif\u001B[39;00m flags \u001B[38;5;241m!=\u001B[39m \u001B[38;5;241m0\u001B[39m:\n\u001B[1;32m   1301\u001B[0m         \u001B[38;5;28;01mraise\u001B[39;00m \u001B[38;5;167;01mValueError\u001B[39;00m(\n\u001B[1;32m   1302\u001B[0m           \u001B[38;5;124m\"\u001B[39m\u001B[38;5;124mnon-zero flags not allowed in calls to recv_into() on \u001B[39m\u001B[38;5;132;01m%s\u001B[39;00m\u001B[38;5;124m\"\u001B[39m \u001B[38;5;241m%\u001B[39m\n\u001B[1;32m   1303\u001B[0m           \u001B[38;5;28mself\u001B[39m\u001B[38;5;241m.\u001B[39m\u001B[38;5;18m__class__\u001B[39m)\n\u001B[0;32m-> 1304\u001B[0m     \u001B[38;5;28;01mreturn\u001B[39;00m \u001B[38;5;28;43mself\u001B[39;49m\u001B[38;5;241;43m.\u001B[39;49m\u001B[43mread\u001B[49m\u001B[43m(\u001B[49m\u001B[43mnbytes\u001B[49m\u001B[43m,\u001B[49m\u001B[43m \u001B[49m\u001B[43mbuffer\u001B[49m\u001B[43m)\u001B[49m\n\u001B[1;32m   1305\u001B[0m \u001B[38;5;28;01melse\u001B[39;00m:\n\u001B[1;32m   1306\u001B[0m     \u001B[38;5;28;01mreturn\u001B[39;00m \u001B[38;5;28msuper\u001B[39m()\u001B[38;5;241m.\u001B[39mrecv_into(buffer, nbytes, flags)\n",
      "File \u001B[0;32m/opt/homebrew/Cellar/python@3.13/3.13.0_1/Frameworks/Python.framework/Versions/3.13/lib/python3.13/ssl.py:1138\u001B[0m, in \u001B[0;36mSSLSocket.read\u001B[0;34m(self, len, buffer)\u001B[0m\n\u001B[1;32m   1136\u001B[0m \u001B[38;5;28;01mtry\u001B[39;00m:\n\u001B[1;32m   1137\u001B[0m     \u001B[38;5;28;01mif\u001B[39;00m buffer \u001B[38;5;129;01mis\u001B[39;00m \u001B[38;5;129;01mnot\u001B[39;00m \u001B[38;5;28;01mNone\u001B[39;00m:\n\u001B[0;32m-> 1138\u001B[0m         \u001B[38;5;28;01mreturn\u001B[39;00m \u001B[38;5;28;43mself\u001B[39;49m\u001B[38;5;241;43m.\u001B[39;49m\u001B[43m_sslobj\u001B[49m\u001B[38;5;241;43m.\u001B[39;49m\u001B[43mread\u001B[49m\u001B[43m(\u001B[49m\u001B[38;5;28;43mlen\u001B[39;49m\u001B[43m,\u001B[49m\u001B[43m \u001B[49m\u001B[43mbuffer\u001B[49m\u001B[43m)\u001B[49m\n\u001B[1;32m   1139\u001B[0m     \u001B[38;5;28;01melse\u001B[39;00m:\n\u001B[1;32m   1140\u001B[0m         \u001B[38;5;28;01mreturn\u001B[39;00m \u001B[38;5;28mself\u001B[39m\u001B[38;5;241m.\u001B[39m_sslobj\u001B[38;5;241m.\u001B[39mread(\u001B[38;5;28mlen\u001B[39m)\n",
      "\u001B[0;31mKeyboardInterrupt\u001B[0m: "
     ]
    }
   ],
   "execution_count": 39
  }
 ],
 "metadata": {
  "kernelspec": {
   "display_name": "Python 3",
   "language": "python",
   "name": "python3"
  },
  "language_info": {
   "codemirror_mode": {
    "name": "ipython",
    "version": 2
   },
   "file_extension": ".py",
   "mimetype": "text/x-python",
   "name": "python",
   "nbconvert_exporter": "python",
   "pygments_lexer": "ipython2",
   "version": "2.7.6"
  }
 },
 "nbformat": 4,
 "nbformat_minor": 5
}
